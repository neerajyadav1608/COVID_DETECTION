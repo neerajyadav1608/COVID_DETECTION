{
 "cells": [
  {
   "cell_type": "code",
   "execution_count": 1,
   "metadata": {},
   "outputs": [],
   "source": [
    "import numpy as np\n",
    "import matplotlib.pyplot as plt\n",
    "import keras\n",
    "from keras.layers import *\n",
    "from keras.models import *\n",
    "from keras.preprocessing import image\n",
    "from keras.callbacks import ModelCheckpoint\n",
    "from IPython.display import Image"
   ]
  },
  {
   "cell_type": "code",
   "execution_count": 2,
   "metadata": {},
   "outputs": [
    {
     "name": "stdout",
     "output_type": "stream",
     "text": [
      "{'Covid': 0, 'Normal': 1}\n",
      "['Covid', 'Normal']\n",
      "[0, 1]\n"
     ]
    }
   ],
   "source": [
    "import cv2,os\n",
    "\n",
    "data_path='CT'\n",
    "categories=os.listdir(data_path)\n",
    "labels=[i for i in range(len(categories))]\n",
    "\n",
    "label_dict=dict(zip(categories,labels)) \n",
    "\n",
    "print(label_dict)\n",
    "print(categories)\n",
    "print(labels)"
   ]
  },
  {
   "cell_type": "code",
   "execution_count": 3,
   "metadata": {},
   "outputs": [],
   "source": [
    "img_size=100,100,1\n",
    "data=[]\n",
    "target=[]\n",
    "\n",
    "\n",
    "for category in categories:\n",
    "    folder_path=os.path.join(data_path,category)\n",
    "    img_names=os.listdir(folder_path)\n",
    "        \n",
    "    for img_name in img_names:\n",
    "        img_path=os.path.join(folder_path,img_name)\n",
    "        img=cv2.imread(img_path)\n",
    "        resized=image.load_img(img_path,color_mode=\"grayscale\", target_size=(100,100))\n",
    "        resized=image.img_to_array(resized)\n",
    "        data.append(resized)\n",
    "        target.append(label_dict[category])"
   ]
  },
  {
   "cell_type": "code",
   "execution_count": 7,
   "metadata": {},
   "outputs": [
    {
     "data": {
      "text/plain": [
       "'CT\\\\Normal\\\\997.png'"
      ]
     },
     "execution_count": 7,
     "metadata": {},
     "output_type": "execute_result"
    }
   ],
   "source": [
    "img_path"
   ]
  },
  {
   "cell_type": "code",
   "execution_count": 4,
   "metadata": {},
   "outputs": [],
   "source": [
    "import numpy as np\n",
    "\n",
    "data=np.array(data)/255.0\n",
    "target=np.array(target)\n",
    "\n",
    "from keras.utils import np_utils\n",
    "\n",
    "new_target=np_utils.to_categorical(target)"
   ]
  },
  {
   "cell_type": "code",
   "execution_count": null,
   "metadata": {},
   "outputs": [],
   "source": []
  },
  {
   "cell_type": "code",
   "execution_count": 5,
   "metadata": {},
   "outputs": [
    {
     "data": {
      "text/plain": [
       "(699, 100, 100, 1)"
      ]
     },
     "execution_count": 5,
     "metadata": {},
     "output_type": "execute_result"
    }
   ],
   "source": [
    "data.shape"
   ]
  },
  {
   "cell_type": "code",
   "execution_count": 6,
   "metadata": {},
   "outputs": [],
   "source": [
    "np.save('data_CT',data)\n",
    "np.save('target_CT',new_target)"
   ]
  },
  {
   "cell_type": "code",
   "execution_count": 7,
   "metadata": {},
   "outputs": [],
   "source": [
    "data=np.load('data_CT.npy')\n",
    "target=np.load('target_CT.npy')"
   ]
  },
  {
   "cell_type": "code",
   "execution_count": 8,
   "metadata": {},
   "outputs": [
    {
     "name": "stdout",
     "output_type": "stream",
     "text": [
      "Model: \"sequential\"\n",
      "_________________________________________________________________\n",
      "Layer (type)                 Output Shape              Param #   \n",
      "=================================================================\n",
      "functional_1 (Functional)    (None, 98, 98, 96)        960       \n",
      "_________________________________________________________________\n",
      "conv2d_3 (Conv2D)            (None, 96, 96, 64)        55360     \n",
      "_________________________________________________________________\n",
      "activation (Activation)      (None, 96, 96, 64)        0         \n",
      "_________________________________________________________________\n",
      "max_pooling2d (MaxPooling2D) (None, 48, 48, 64)        0         \n",
      "_________________________________________________________________\n",
      "conv2d_4 (Conv2D)            (None, 46, 46, 128)       73856     \n",
      "_________________________________________________________________\n",
      "activation_1 (Activation)    (None, 46, 46, 128)       0         \n",
      "_________________________________________________________________\n",
      "max_pooling2d_1 (MaxPooling2 (None, 23, 23, 128)       0         \n",
      "_________________________________________________________________\n",
      "flatten (Flatten)            (None, 67712)             0         \n",
      "_________________________________________________________________\n",
      "dropout (Dropout)            (None, 67712)             0         \n",
      "_________________________________________________________________\n",
      "dense (Dense)                (None, 128)               8667264   \n",
      "_________________________________________________________________\n",
      "dropout_1 (Dropout)          (None, 128)               0         \n",
      "_________________________________________________________________\n",
      "dense_1 (Dense)              (None, 64)                8256      \n",
      "_________________________________________________________________\n",
      "dropout_2 (Dropout)          (None, 64)                0         \n",
      "_________________________________________________________________\n",
      "dense_2 (Dense)              (None, 2)                 130       \n",
      "=================================================================\n",
      "Total params: 8,805,826\n",
      "Trainable params: 8,805,826\n",
      "Non-trainable params: 0\n",
      "_________________________________________________________________\n"
     ]
    }
   ],
   "source": [
    "from keras.models import Sequential,Model\n",
    "from keras.layers import Dense, Dropout, Flatten\n",
    "from keras.layers import Conv2D,Activation,MaxPooling2D\n",
    "from keras.utils import normalize\n",
    "from keras.layers import Concatenate\n",
    "from keras import Input\n",
    "from keras.callbacks import ModelCheckpoint\n",
    "\n",
    "input_shape=data.shape[1:]\n",
    "inp=Input(shape=input_shape)\n",
    "convs=[]\n",
    "\n",
    "parrallel_kernels=[3,3,3]\n",
    "\n",
    "for k in range(len(parrallel_kernels)):\n",
    "\n",
    "    conv = Conv2D(32, parrallel_kernels[k],activation='relu',input_shape=input_shape,strides=1)(inp)\n",
    "    convs.append(conv)\n",
    "\n",
    "out = Concatenate()(convs)\n",
    "conv_model = Model(inputs=inp, outputs=out)\n",
    "\n",
    "model = Sequential()\n",
    "model.add(conv_model)\n",
    "\n",
    "model.add(Conv2D(64,(3,3)))\n",
    "model.add(Activation('relu'))\n",
    "model.add(MaxPooling2D(pool_size=(2,2)))\n",
    "\n",
    "model.add(Conv2D(128,(3,3)))\n",
    "model.add(Activation('relu'))\n",
    "model.add(MaxPooling2D(pool_size=(2,2)))\n",
    "\n",
    "model.add(Flatten())\n",
    "model.add(Dropout(0.5))\n",
    "model.add(Dense(128,activation='relu'))\n",
    "model.add(Dropout(0.5))\n",
    "model.add(Dense(64,activation='relu'))\n",
    "model.add(Dropout(0.5))\n",
    "model.add(Dense(2,input_dim=128,activation='softmax'))\n",
    "model.compile(loss='categorical_crossentropy',optimizer='adam',metrics=['accuracy'])\n",
    "\n",
    "model.summary()"
   ]
  },
  {
   "cell_type": "code",
   "execution_count": 15,
   "metadata": {},
   "outputs": [],
   "source": [
    "from sklearn.model_selection import train_test_split\n",
    "\n",
    "train_data,test_data,train_target,test_target=train_test_split(data,target,test_size=0.2)"
   ]
  },
  {
   "cell_type": "code",
   "execution_count": 33,
   "metadata": {},
   "outputs": [],
   "source": [
    "checkpoint=ModelCheckpoint(\"CT_Covid_best_model_2.hdf5\",monitor='accuracy',verbose=1,save_best_only=True,mode='max')"
   ]
  },
  {
   "cell_type": "code",
   "execution_count": 34,
   "metadata": {},
   "outputs": [
    {
     "name": "stdout",
     "output_type": "stream",
     "text": [
      "Epoch 1/20\n",
      "8/8 [==============================] - ETA: 0s - loss: 3.1265 - accuracy: 0.6060\n",
      "Epoch 00001: accuracy improved from -inf to 0.60601, saving model to CT_Covid_best_model_2.hdf5\n",
      "8/8 [==============================] - 17s 2s/step - loss: 3.1265 - accuracy: 0.6060 - val_loss: 0.6846 - val_accuracy: 0.5238\n",
      "Epoch 2/20\n",
      "8/8 [==============================] - ETA: 0s - loss: 0.6872 - accuracy: 0.5565\n",
      "Epoch 00002: accuracy did not improve from 0.60601\n",
      "8/8 [==============================] - 17s 2s/step - loss: 0.6872 - accuracy: 0.5565 - val_loss: 0.6824 - val_accuracy: 0.6825\n",
      "Epoch 3/20\n",
      "8/8 [==============================] - ETA: 0s - loss: 0.6737 - accuracy: 0.6272\n",
      "Epoch 00003: accuracy improved from 0.60601 to 0.62721, saving model to CT_Covid_best_model_2.hdf5\n",
      "8/8 [==============================] - 17s 2s/step - loss: 0.6737 - accuracy: 0.6272 - val_loss: 0.6579 - val_accuracy: 0.5556\n",
      "Epoch 4/20\n",
      "8/8 [==============================] - ETA: 0s - loss: 0.6577 - accuracy: 0.6184\n",
      "Epoch 00004: accuracy did not improve from 0.62721\n",
      "8/8 [==============================] - 19s 2s/step - loss: 0.6577 - accuracy: 0.6184 - val_loss: 0.6722 - val_accuracy: 0.5714\n",
      "Epoch 5/20\n",
      "8/8 [==============================] - ETA: 0s - loss: 0.6182 - accuracy: 0.6678\n",
      "Epoch 00005: accuracy improved from 0.62721 to 0.66784, saving model to CT_Covid_best_model_2.hdf5\n",
      "8/8 [==============================] - 19s 2s/step - loss: 0.6182 - accuracy: 0.6678 - val_loss: 0.6091 - val_accuracy: 0.6349\n",
      "Epoch 6/20\n",
      "8/8 [==============================] - ETA: 0s - loss: 0.5653 - accuracy: 0.6802\n",
      "Epoch 00006: accuracy improved from 0.66784 to 0.68021, saving model to CT_Covid_best_model_2.hdf5\n",
      "8/8 [==============================] - 19s 2s/step - loss: 0.5653 - accuracy: 0.6802 - val_loss: 0.6055 - val_accuracy: 0.6349\n",
      "Epoch 7/20\n",
      "8/8 [==============================] - ETA: 0s - loss: 0.5283 - accuracy: 0.7403\n",
      "Epoch 00007: accuracy improved from 0.68021 to 0.74028, saving model to CT_Covid_best_model_2.hdf5\n",
      "8/8 [==============================] - 19s 2s/step - loss: 0.5283 - accuracy: 0.7403 - val_loss: 0.5919 - val_accuracy: 0.6508\n",
      "Epoch 8/20\n",
      "8/8 [==============================] - ETA: 0s - loss: 0.4991 - accuracy: 0.7527\n",
      "Epoch 00008: accuracy improved from 0.74028 to 0.75265, saving model to CT_Covid_best_model_2.hdf5\n",
      "8/8 [==============================] - 20s 2s/step - loss: 0.4991 - accuracy: 0.7527 - val_loss: 0.5309 - val_accuracy: 0.7460\n",
      "Epoch 9/20\n",
      "8/8 [==============================] - ETA: 0s - loss: 0.4737 - accuracy: 0.7686\n",
      "Epoch 00009: accuracy improved from 0.75265 to 0.76855, saving model to CT_Covid_best_model_2.hdf5\n",
      "8/8 [==============================] - 19s 2s/step - loss: 0.4737 - accuracy: 0.7686 - val_loss: 0.5293 - val_accuracy: 0.6825\n",
      "Epoch 10/20\n",
      "8/8 [==============================] - ETA: 0s - loss: 0.4386 - accuracy: 0.7933\n",
      "Epoch 00010: accuracy improved from 0.76855 to 0.79329, saving model to CT_Covid_best_model_2.hdf5\n",
      "8/8 [==============================] - 20s 2s/step - loss: 0.4386 - accuracy: 0.7933 - val_loss: 0.5748 - val_accuracy: 0.6508\n",
      "Epoch 11/20\n",
      "8/8 [==============================] - ETA: 0s - loss: 0.4129 - accuracy: 0.8110\n",
      "Epoch 00011: accuracy improved from 0.79329 to 0.81095, saving model to CT_Covid_best_model_2.hdf5\n",
      "8/8 [==============================] - 19s 2s/step - loss: 0.4129 - accuracy: 0.8110 - val_loss: 0.4978 - val_accuracy: 0.7302\n",
      "Epoch 12/20\n",
      "8/8 [==============================] - ETA: 0s - loss: 0.3830 - accuracy: 0.8339\n",
      "Epoch 00012: accuracy improved from 0.81095 to 0.83392, saving model to CT_Covid_best_model_2.hdf5\n",
      "8/8 [==============================] - 19s 2s/step - loss: 0.3830 - accuracy: 0.8339 - val_loss: 0.5199 - val_accuracy: 0.6667\n",
      "Epoch 13/20\n",
      "8/8 [==============================] - ETA: 0s - loss: 0.3424 - accuracy: 0.8569\n",
      "Epoch 00013: accuracy improved from 0.83392 to 0.85689, saving model to CT_Covid_best_model_2.hdf5\n",
      "8/8 [==============================] - 19s 2s/step - loss: 0.3424 - accuracy: 0.8569 - val_loss: 0.5412 - val_accuracy: 0.6667\n",
      "Epoch 14/20\n",
      "8/8 [==============================] - ETA: 0s - loss: 0.3026 - accuracy: 0.8640\n",
      "Epoch 00014: accuracy improved from 0.85689 to 0.86396, saving model to CT_Covid_best_model_2.hdf5\n",
      "8/8 [==============================] - 20s 2s/step - loss: 0.3026 - accuracy: 0.8640 - val_loss: 0.5614 - val_accuracy: 0.7302\n",
      "Epoch 15/20\n",
      "8/8 [==============================] - ETA: 0s - loss: 0.3057 - accuracy: 0.8551\n",
      "Epoch 00015: accuracy did not improve from 0.86396\n",
      "8/8 [==============================] - 19s 2s/step - loss: 0.3057 - accuracy: 0.8551 - val_loss: 0.5223 - val_accuracy: 0.7460\n",
      "Epoch 16/20\n",
      "8/8 [==============================] - ETA: 0s - loss: 0.2982 - accuracy: 0.8763\n",
      "Epoch 00016: accuracy improved from 0.86396 to 0.87633, saving model to CT_Covid_best_model_2.hdf5\n",
      "8/8 [==============================] - 19s 2s/step - loss: 0.2982 - accuracy: 0.8763 - val_loss: 0.4469 - val_accuracy: 0.7619\n",
      "Epoch 17/20\n",
      "8/8 [==============================] - ETA: 0s - loss: 0.2528 - accuracy: 0.8922\n",
      "Epoch 00017: accuracy improved from 0.87633 to 0.89223, saving model to CT_Covid_best_model_2.hdf5\n",
      "8/8 [==============================] - 19s 2s/step - loss: 0.2528 - accuracy: 0.8922 - val_loss: 0.4253 - val_accuracy: 0.8095\n",
      "Epoch 18/20\n",
      "8/8 [==============================] - ETA: 0s - loss: 0.2440 - accuracy: 0.8975\n",
      "Epoch 00018: accuracy improved from 0.89223 to 0.89753, saving model to CT_Covid_best_model_2.hdf5\n",
      "8/8 [==============================] - 20s 2s/step - loss: 0.2440 - accuracy: 0.8975 - val_loss: 0.4818 - val_accuracy: 0.7937\n",
      "Epoch 19/20\n",
      "8/8 [==============================] - ETA: 0s - loss: 0.2162 - accuracy: 0.9134\n",
      "Epoch 00019: accuracy improved from 0.89753 to 0.91343, saving model to CT_Covid_best_model_2.hdf5\n",
      "8/8 [==============================] - 21s 3s/step - loss: 0.2162 - accuracy: 0.9134 - val_loss: 0.5023 - val_accuracy: 0.7778\n",
      "Epoch 20/20\n",
      "8/8 [==============================] - ETA: 0s - loss: 0.2175 - accuracy: 0.9134\n",
      "Epoch 00020: accuracy did not improve from 0.91343\n",
      "8/8 [==============================] - 19s 2s/step - loss: 0.2175 - accuracy: 0.9134 - val_loss: 0.4553 - val_accuracy: 0.8095\n"
     ]
    }
   ],
   "source": [
    "final=model.fit(train_data,train_target,epochs=20,steps_per_epoch=8,callbacks=[checkpoint],validation_split=0.1)"
   ]
  },
  {
   "cell_type": "code",
   "execution_count": 35,
   "metadata": {},
   "outputs": [
    {
     "data": {
      "image/png": "[encoded data removed]",
      "text/plain": [
       "<Figure size 432x288 with 1 Axes>"
      ]
     },
     "metadata": {
      "needs_background": "light"
     },
     "output_type": "display_data"
    }
   ],
   "source": [
    "from matplotlib import pyplot as plt\n",
    "\n",
    "plt.plot(final.history['loss'],'r',label='training loss')\n",
    "plt.plot(final.history['val_loss'],label='validation loss')\n",
    "plt.xlabel('# epochs')\n",
    "plt.ylabel('loss')\n",
    "plt.legend()\n",
    "plt.show()"
   ]
  },
  {
   "cell_type": "code",
   "execution_count": 36,
   "metadata": {},
   "outputs": [
    {
     "data": {
      "image/png": "[encoded data removed]",
      "text/plain": [
       "<Figure size 432x288 with 1 Axes>"
      ]
     },
     "metadata": {
      "needs_background": "light"
     },
     "output_type": "display_data"
    }
   ],
   "source": [
    "plt.plot(final.history['accuracy'],'r',label='training accuracy')\n",
    "plt.plot(final.history['val_accuracy'],label='validation accuracy')\n",
    "plt.xlabel('# epochs')\n",
    "plt.ylabel('Accuracy')\n",
    "plt.legend()\n",
    "plt.show()"
   ]
  },
  {
   "cell_type": "code",
   "execution_count": 16,
   "metadata": {},
   "outputs": [],
   "source": [
    "from tensorflow.keras.models import load_model"
   ]
  },
  {
   "cell_type": "code",
   "execution_count": 17,
   "metadata": {},
   "outputs": [],
   "source": [
    "model=load_model(\"CT_Covid_best_model_2.hdf5\")"
   ]
  },
  {
   "cell_type": "code",
   "execution_count": 18,
   "metadata": {},
   "outputs": [],
   "source": [
    "import os\n",
    "y_actual=[]\n",
    "y_test=[]"
   ]
  },
  {
   "cell_type": "code",
   "execution_count": 19,
   "metadata": {},
   "outputs": [],
   "source": [
    "for i in range(test_data.shape[0]):\n",
    "    img=np.expand_dims(test_data[i],axis=0)\n",
    "    p=model.predict_classes(img)\n",
    "    y_test.append(p[0])\n",
    "    y_actual.append(test_target[i,1])"
   ]
  },
  {
   "cell_type": "code",
   "execution_count": 20,
   "metadata": {},
   "outputs": [],
   "source": [
    "y_test=np.array(y_test)\n",
    "y_actual=np.array(y_actual)"
   ]
  },
  {
   "cell_type": "code",
   "execution_count": 21,
   "metadata": {},
   "outputs": [],
   "source": [
    "from sklearn.metrics import confusion_matrix"
   ]
  },
  {
   "cell_type": "code",
   "execution_count": 22,
   "metadata": {},
   "outputs": [],
   "source": [
    "cm=confusion_matrix(y_actual,y_test)"
   ]
  },
  {
   "cell_type": "code",
   "execution_count": 24,
   "metadata": {},
   "outputs": [],
   "source": [
    "import seaborn as sns"
   ]
  },
  {
   "cell_type": "code",
   "execution_count": 25,
   "metadata": {},
   "outputs": [
    {
     "data": {
      "text/plain": [
       "<AxesSubplot:>"
      ]
     },
     "execution_count": 25,
     "metadata": {},
     "output_type": "execute_result"
    },
    {
     "data": {
      "image/png": "[encoded data removed]",
      "text/plain": [
       "<Figure size 432x288 with 2 Axes>"
      ]
     },
     "metadata": {
      "needs_background": "light"
     },
     "output_type": "display_data"
    }
   ],
   "source": [
    "sns.heatmap(cm,cmap=\"plasma\",annot=True)"
   ]
  },
  {
   "cell_type": "code",
   "execution_count": null,
   "metadata": {},
   "outputs": [],
   "source": []
  }
 ],
 "metadata": {
  "kernelspec": {
   "display_name": "Python 3",
   "language": "python",
   "name": "python3"
  },
  "language_info": {
   "codemirror_mode": {
    "name": "ipython",
    "version": 3
   },
   "file_extension": ".py",
   "mimetype": "text/x-python",
   "name": "python",
   "nbconvert_exporter": "python",
   "pygments_lexer": "ipython3",
   "version": "3.8.6"
  }
 },
 "nbformat": 4,
 "nbformat_minor": 4
}
